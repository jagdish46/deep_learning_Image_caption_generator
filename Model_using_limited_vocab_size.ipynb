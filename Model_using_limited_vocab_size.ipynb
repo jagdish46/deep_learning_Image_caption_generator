{
  "nbformat": 4,
  "nbformat_minor": 0,
  "metadata": {
    "colab": {
      "name": "final_model1.ipynb",
      "provenance": [],
      "collapsed_sections": [],
      "machine_shape": "hm"
    },
    "kernelspec": {
      "name": "python3",
      "display_name": "Python 3"
    },
    "language_info": {
      "name": "python"
    },
    "accelerator": "GPU"
  },
  "cells": [
    {
      "cell_type": "markdown",
      "metadata": {
        "id": "7n3wLDyn-b9o"
      },
      "source": [
        "This model was created by taking in account, the words that are repeated more than 10 times in the entire vocab size that was created from the entire captions."
      ]
    },
    {
      "cell_type": "code",
      "metadata": {
        "id": "5bIKkkPUl6SA"
      },
      "source": [
        "import numpy as np\n",
        "from sklearn.utils import shuffle\n",
        "from pickle import dump\n",
        "import os\n",
        "from tqdm import tqdm\n",
        "import string\n",
        "from keras.preprocessing import sequence\n",
        "from keras.preprocessing.image import load_img, img_to_array\n",
        "from keras.preprocessing import image\n",
        "from datetime import datetime as dt\n",
        "import numpy as np\n",
        "from keras.models import Model\n",
        "from keras.preprocessing.sequence import pad_sequences\n",
        "from keras.applications.inception_v3 import InceptionV3\n",
        "from keras.applications.vgg16 import VGG16\n",
        "from tqdm import tqdm\n",
        "from keras.layers import Input, Dense, Dropout, LSTM, Embedding, concatenate, RepeatVector, TimeDistributed, Bidirectional\n",
        "from nltk.translate.bleu_score import corpus_bleu\n",
        "from keras.applications.xception import Xception\n",
        "import numpy as np\n",
        "import random\n",
        "from keras.preprocessing.sequence import pad_sequences\n",
        "#from utils.preprocessing import *\n",
        "from pickle import load, dump\n",
        "from keras.preprocessing.text import Tokenizer\n",
        "from keras.utils import to_categorical\n",
        "from tensorflow.keras.callbacks import ModelCheckpoint\n",
        "from tensorflow import keras\n",
        "from pickle import load\n",
        "import matplotlib.pyplot as plt\n",
        "import argparse\n",
        "from keras.models import load_model\n",
        "from PIL import Image\n",
        "from keras.layers.merge import add"
      ],
      "execution_count": null,
      "outputs": []
    },
    {
      "cell_type": "code",
      "metadata": {
        "colab": {
          "base_uri": "https://localhost:8080/"
        },
        "id": "NuT8PuS84TYc",
        "outputId": "d4a2d220-4a6a-4ee3-cd68-1da8416da2fd"
      },
      "source": [
        "from google.colab import drive\n",
        "drive.mount('/content/gdrive')"
      ],
      "execution_count": null,
      "outputs": [
        {
          "output_type": "stream",
          "text": [
            "Drive already mounted at /content/gdrive; to attempt to forcibly remount, call drive.mount(\"/content/gdrive\", force_remount=True).\n"
          ],
          "name": "stdout"
        }
      ]
    },
    {
      "cell_type": "code",
      "metadata": {
        "id": "SrBJTVkH4V74"
      },
      "source": [
        "def cnn(model_selection):\n",
        "  if model_selection == 'inceptionv3':\n",
        "      model = InceptionV3()\n",
        "  elif model_selection == 'vgg16':\n",
        "      model = VGG16()\n",
        "  elif model_selection == 'Xception':\n",
        "      model = Xception()\n",
        "  new_model = Model(model.input, model.layers[-2].output)\n",
        "  return new_model"
      ],
      "execution_count": null,
      "outputs": []
    },
    {
      "cell_type": "code",
      "metadata": {
        "id": "X3k3j8XS6GQu"
      },
      "source": [
        "def rnn(vocab_size, max_len, model_config, model_selection):\n",
        "    embedding_size = model_config['embeddingsize']\n",
        "    if model_selection == 'inceptionv3':\n",
        "        input_image = Input(shape=(2048,))\n",
        "    elif model_selection == 'Xception':\n",
        "        input_image = Input(shape=(2048,))\n",
        "    elif model_selection == 'vgg16':\n",
        "        input_image = Input(shape=(4096,))\n",
        "    im = Dropout(model_config['dropout'])(input_image)\n",
        "    image = Dense(model_config['dense'], activation='relu')(im)\n",
        "\n",
        "    input_caption = Input(shape=(max_len,))\n",
        "    cm1 = Embedding(vocab_size, embedding_size, mask_zero=True)(input_caption)\n",
        "    cm2 = Dropout(model_config['dropout'])(cm1)\n",
        "    caption = LSTM(model_config['lstm'])(cm2)\n",
        "\n",
        "    \n",
        "\n",
        "    decoder1 = add([image, caption])\n",
        "    decoder2 = Dense(model_config['dense'], activation='relu')(decoder1)\n",
        "    output_model = Dense(vocab_size, activation='softmax')(decoder2)\n",
        "\n",
        "    model = Model(inputs=[input_image, input_caption], outputs=output_model)\n",
        "    #model.compile(loss='categorical_crossentropy', optimizer='adam', metrics=['accuracy'])\n",
        "    return model\n"
      ],
      "execution_count": null,
      "outputs": []
    },
    {
      "cell_type": "code",
      "metadata": {
        "id": "TXo0xVNz6HNU"
      },
      "source": [
        "def Bidirectional_LSTM(vocab_size, max_len, model_config, model_selection):\n",
        "    embedding_size = model_config['embeddingsize']\n",
        "    if model_selection == 'inceptionv3':\n",
        "        input_image = Input(shape=(2048,))\n",
        "    elif model_selection == 'Xception':\n",
        "        input_image = Input(shape=(2048,))\n",
        "    elif model_selection == 'vgg16':\n",
        "        input_image = Input(shape=(4096,))\n",
        "    im = Dense(model_config['dense'], activation='relu')(input_image)\n",
        "    image = RepeatVector(max_len)(im)\n",
        "\n",
        "    input_caption = Input(shape=(max_len,))\n",
        "    cm1 = Embedding(vocab_size, embedding_size, mask_zero=True)(input_caption)\n",
        "    cm2 = LSTM(model_config['lstm'], return_sequences=True)(cm1)\n",
        "    caption = TimeDistributed(embedding_size))(cm2)\n",
        "\n",
        "    decoder1 = concatenate([image, caption])\n",
        "    decoder2 = LSTM(embedding_size, return_sequences=True)(decoder1)\n",
        "    decoder3 = Bidirectional(LSTM(512, return_sequences=False))(decoder2)\n",
        "    output_model = Dense(vocab_size, activation='softmax')(decoder3)\n",
        "\n",
        "    model = Model(inputs=[input_image, input_caption], outputs=output_model)\n",
        "    #model.compile(loss='categorical_crossentropy', optimizer='adam')\n",
        "    return model"
      ],
      "execution_count": null,
      "outputs": []
    },
    {
      "cell_type": "code",
      "metadata": {
        "id": "HwsR2Z5h6MCR"
      },
      "source": [
        "def generate_word_from_int(integer, tokenizer):\n",
        "    for word, index in tokenizer.word_index.items():\n",
        "        if index == integer:\n",
        "            return word\n",
        "    return None\n",
        "\n",
        "\n",
        "def model_evaluation(model, images, captions, max_len, beam_index):\n",
        "    actual, prediction = list(), list()\n",
        "    for img_id, cap_list in tqdm(captions.items()):\n",
        "        images[img_id] = images[img_id].reshape((1,2048))\n",
        "        #pred = generate_description(model, tokenizer, images[img_id], max_len)\n",
        "        pred = beam_search_predictions(model, images[img_id], max_len, beam_index = 3)\n",
        "        truth = [caption.split() for caption in cap_list]\n",
        "        actual.append(truth)\n",
        "        prediction.append(pred.split())\n",
        "    print('BLEU Scores :')\n",
        "    print('A perfect match results in a score of 1.0, whereas a perfect mismatch results in a score of 0.0.')\n",
        "    print('BLEU-1: %f' % corpus_bleu(actual, prediction, weights=(1.0, 0, 0, 0)))\n",
        "    print('BLEU-2: %f' % corpus_bleu(actual, prediction, weights=(0.5, 0.5, 0, 0)))\n",
        "    print('BLEU-3: %f' % corpus_bleu(actual, prediction, weights=(0.3, 0.3, 0.3, 0)))\n",
        "    print('BLEU-4: %f' % corpus_bleu(actual, prediction, weights=(0.25, 0.25, 0.25, 0.25)))\n",
        "  \n",
        "def model_evaluation_greedy_search(model, images, captions, max_len):\n",
        "    actual, prediction = list(), list()\n",
        "    for img_id, cap_list in tqdm(captions.items()):\n",
        "        images[img_id] = images[img_id].reshape((1,2048))\n",
        "        pred = generate_description(model, images[img_id], max_len)\n",
        "        #pred = beam_search_predictions(model, images[img_id], max_len, beam_index = 3)\n",
        "        truth = [caption.split() for caption in cap_list]\n",
        "        actual.append(truth)\n",
        "        prediction.append(pred.split())\n",
        "    print('BLEU Scores :')\n",
        "    print('A perfect match results in a score of 1.0, whereas a perfect mismatch results in a score of 0.0.')\n",
        "    print('BLEU-1: %f' % corpus_bleu(actual, prediction, weights=(1.0, 0, 0, 0)))\n",
        "    print('BLEU-2: %f' % corpus_bleu(actual, prediction, weights=(0.5, 0.5, 0, 0)))\n",
        "    print('BLEU-3: %f' % corpus_bleu(actual, prediction, weights=(0.3, 0.3, 0.3, 0)))\n",
        "    print('BLEU-4: %f' % corpus_bleu(actual, prediction, weights=(0.25, 0.25, 0.25, 0.25)))"
      ],
      "execution_count": null,
      "outputs": []
    },
    {
      "cell_type": "code",
      "metadata": {
        "id": "y6LUvjSH6Oc5"
      },
      "source": [
        "def features_extraction(path, model_selection):\n",
        "    if model_selection == 'inceptionv3':\n",
        "        from keras.applications.inception_v3 import preprocess_input\n",
        "        size = (299, 299)\n",
        "    elif model_selection == 'vgg16':\n",
        "        from keras.applications.vgg16 import preprocess_input\n",
        "        size = (224, 224)\n",
        "    elif model_selection == 'Xception':\n",
        "        from keras.applications.xception import preprocess_input\n",
        "        size = (299,299)\n",
        "    model = cnn(model_selection)\n",
        "    features = dict()\n",
        "    for name in tqdm(os.listdir(path)):\n",
        "        filename = path + name\n",
        "        img = load_img(filename, target_size=size)\n",
        "        img = image.img_to_array(img)\n",
        "        img = np.expand_dims(img,axis=0)\n",
        "        #img = img.reshape((1, img.shape[0], img.shape[1], img.shape[2]))\n",
        "        img = preprocess_input(img)\n",
        "        feature = model.predict(img)\n",
        "        img_id = name.split('.')[0]\n",
        "        feature = np.reshape(feature,feature.shape[1])\n",
        "        features[img_id] = feature\n",
        "    return features"
      ],
      "execution_count": null,
      "outputs": []
    },
    {
      "cell_type": "code",
      "metadata": {
        "id": "awpi99hj6Pao"
      },
      "source": [
        "def loading_captions(filename):\n",
        "    file = open(filename, 'r')\n",
        "    doc = file.read()\n",
        "    file.close()\n",
        "\n",
        "    caps = dict()\n",
        "    for line in doc.split('\\n'):\n",
        "        tokens = line.split()\n",
        "        if len(line) < 2:\n",
        "            continue\n",
        "        img_id, img_cap = tokens[0], tokens[1:]\n",
        "        img_id = img_id.split('.')[0]\n",
        "        img_cap = ' '.join(img_cap)\n",
        "        if img_id not in caps:\n",
        "            caps[img_id] = list()\n",
        "        caps[img_id].append(img_cap)\n",
        "    return caps\n",
        "\n",
        "def text_cleaning(caps):\n",
        "    table = str.maketrans('', '', string.punctuation)\n",
        "    for key, cap_list in caps.items():\n",
        "        for i in range(len(cap_list)):\n",
        "            caption = cap_list[i]\n",
        "            caption = caption.split()\n",
        "            caption = [word.lower() for word in caption]\n",
        "            caption = [w.translate(table) for w in caption]\n",
        "            caption = [word for word in caption if len(word)>1]\n",
        "            caption = [word for word in caption if word.isalpha()]\n",
        "            cap_list[i] =  ' '.join(caption)\n",
        "        caps[key]=cap_list\n",
        "    return caps\n",
        "\n",
        "\n",
        "def save_cleaned_texts(caps, filename):\n",
        "    lines = list()\n",
        "    for key, cap_list in caps.items():\n",
        "        for caption in cap_list:\n",
        "            lines.append(key + ' ' + caption)\n",
        "    data = '\\n'.join(lines)\n",
        "    file = open(filename, 'w')\n",
        "    file.write(data)\n",
        "    file.close()"
      ],
      "execution_count": null,
      "outputs": []
    },
    {
      "cell_type": "code",
      "metadata": {
        "id": "f89-kN_96RjV"
      },
      "source": [
        "def Data_preprocessing(path1,path2,cap_path,model_selection):\n",
        "    if os.path.exists(path1+'features_'+model_selection+'.pkl'):\n",
        "        print('Features for images are already generated at the location {}'.format(path1+'features_'+model_selection+'.pkl'))\n",
        "    else:\n",
        "        print('Generating the image features')\n",
        "        features = features_extraction(path2, model_selection)\n",
        "        dump(features, open(path1+'features_'+model_selection+'.pkl', 'wb'))\n",
        "        print('Features are saved')\n",
        "    if os.path.exists(path1+'captions.txt'):\n",
        "        print('Captions for the images are already generated at the location {}'.format(path1+'captions.txt'))\n",
        "    else:\n",
        "        descriptions = loading_captions(cap_path)\n",
        "        print(type(descriptions))\n",
        "        print(descriptions)\n",
        "        descriptions=text_cleaning(descriptions)\n",
        "        print(type(descriptions))\n",
        "        print(descriptions)\n",
        "        save_cleaned_texts(descriptions, path1+'captions.txt')\n",
        "        print('Captions are successfully generated')"
      ],
      "execution_count": null,
      "outputs": []
    },
    {
      "cell_type": "code",
      "metadata": {
        "colab": {
          "base_uri": "https://localhost:8080/"
        },
        "id": "PTUx06KA6aIx",
        "outputId": "ca626b61-4e7c-441f-fa0f-0748f0c7e826"
      },
      "source": [
        "captions_path = \"/content/gdrive/MyDrive/DEEP LEARNING/dataset/Flickr8k.token.txt\"\n",
        "descriptions = loading_captions(captions_path)\n",
        "print(type(descriptions))\n",
        "#print(descriptions)\n",
        "descriptions=text_cleaning(descriptions)\n",
        "#print(descriptions)\n",
        "unique_vocab = set()\n",
        "for key in descriptions.keys():\n",
        "  [unique_vocab.update(d.split()) for d in descriptions[key]]\n",
        "print('Original Vocabulary Size: %d' % len(unique_vocab))"
      ],
      "execution_count": null,
      "outputs": [
        {
          "output_type": "stream",
          "text": [
            "<class 'dict'>\n",
            "Original Vocabulary Size: 8763\n"
          ],
          "name": "stdout"
        }
      ]
    },
    {
      "cell_type": "code",
      "metadata": {
        "colab": {
          "base_uri": "https://localhost:8080/"
        },
        "id": "UlF-xn1b6eou",
        "outputId": "567710e5-ae69-4be6-dfd1-81465ab04673"
      },
      "source": [
        "path_for_extracted_features_captions = \"/content/gdrive/MyDrive/DEEP LEARNING/final/features_and_captions/\"\n",
        "model_types=['inceptionv3','vgg16','Xception']\n",
        "image_dataset_path = \"/content/gdrive/MyDrive/DEEP LEARNING/dataset/Flicker8k_Dataset/\"\n",
        "captions_path = \"/content/gdrive/MyDrive/DEEP LEARNING/dataset/Flickr8k.token.txt\"\n",
        "\n",
        "for i in range(len(model_types)):\n",
        "    Data_preprocessing(path_for_extracted_features_captions,image_dataset_path,captions_path,model_types[i])"
      ],
      "execution_count": null,
      "outputs": [
        {
          "output_type": "stream",
          "text": [
            "Features for images are already generated at the location /content/gdrive/MyDrive/DEEP LEARNING/final/features_and_captions/features_inceptionv3.pkl\n",
            "Captions for the images are already generated at the location /content/gdrive/MyDrive/DEEP LEARNING/final/features_and_captions/captions.txt\n",
            "Features for images are already generated at the location /content/gdrive/MyDrive/DEEP LEARNING/final/features_and_captions/features_vgg16.pkl\n",
            "Captions for the images are already generated at the location /content/gdrive/MyDrive/DEEP LEARNING/final/features_and_captions/captions.txt\n",
            "Features for images are already generated at the location /content/gdrive/MyDrive/DEEP LEARNING/final/features_and_captions/features_Xception.pkl\n",
            "Captions for the images are already generated at the location /content/gdrive/MyDrive/DEEP LEARNING/final/features_and_captions/captions.txt\n"
          ],
          "name": "stdout"
        }
      ]
    },
    {
      "cell_type": "code",
      "metadata": {
        "id": "6VQkW_Og6fcN"
      },
      "source": [
        "def extract_img_ids(filename):\n",
        "    f = open(filename, 'r')\n",
        "    r = f.read()\n",
        "    f.close()\n",
        "    ids = list()\n",
        "    for i in r.split('\\n'):\n",
        "        if len(i) < 1:\n",
        "            continue\n",
        "        img_id = i.split('.')[0]\n",
        "        ids.append(img_id)\n",
        "    return set(ids)"
      ],
      "execution_count": null,
      "outputs": []
    },
    {
      "cell_type": "code",
      "metadata": {
        "id": "tXDNgKv76hmo"
      },
      "source": [
        "def load_cleaned_descriptions(filename, ids):\n",
        "    f = open(filename, 'r')\n",
        "    doc = f.read()\n",
        "    f.close()\n",
        "    image_captions = dict()\n",
        "    for line in doc.split('\\n'):\n",
        "        img_id_desp = line.split()\n",
        "        img_id, img_cap = img_id_desp[0], img_id_desp[1:]\n",
        "        if img_id in ids:\n",
        "            if img_id not in image_captions:\n",
        "                image_captions[img_id] = list()\n",
        "            desp = 'startseq ' + ' '.join(img_cap) + ' endseq'\n",
        "            image_captions[img_id].append(desp)\n",
        "    return image_captions"
      ],
      "execution_count": null,
      "outputs": []
    },
    {
      "cell_type": "code",
      "metadata": {
        "id": "Y8jmKAJm6lRW"
      },
      "source": [
        "def load_features(filename, ids):\n",
        "    img_features = load(open(filename, 'rb'))\n",
        "    features = {i: img_features[i] for i in ids}\n",
        "    return features"
      ],
      "execution_count": null,
      "outputs": []
    },
    {
      "cell_type": "code",
      "metadata": {
        "id": "VPcwilrc6nwn"
      },
      "source": [
        "def convert_to_list(desp):\n",
        "    img_desp = list()\n",
        "    for img_id in desp.keys():\n",
        "        [img_desp.append(cap) for cap in desp[img_id]]\n",
        "    return img_desp"
      ],
      "execution_count": null,
      "outputs": []
    },
    {
      "cell_type": "code",
      "metadata": {
        "id": "hAEUixEn6suq"
      },
      "source": [
        "def maximum_length(desp):\n",
        "    desp_list = convert_to_list(desp)\n",
        "    return max(len(i.split()) for i in desp_list)"
      ],
      "execution_count": null,
      "outputs": []
    },
    {
      "cell_type": "code",
      "metadata": {
        "id": "8-rV4bcH6tXX"
      },
      "source": [
        "def generate_seq_update(image_features, description, max_len, batch_size, vocab_size, wordtoix):\n",
        "  X1, X2, y = list(), list(), list()\n",
        "  count = 0\n",
        "  while 1:\n",
        "    for key, desp_list in description.items():\n",
        "      count = count+1\n",
        "      img_feature = image_features[key]\n",
        "      for desp in desp_list:\n",
        "        seq = [wordtoix[word] for word in desp.split(' ') if word in wordtoix]\n",
        "        for i in range(1, len(seq)):\n",
        "            input_seq, output_seq = seq[:i], seq[i]\n",
        "            input_seq = pad_sequences([input_seq], maxlen=max_len)[0]\n",
        "            output_seq = to_categorical([output_seq], num_classes=vocab_size)[0]\n",
        "            X1.append(img_feature)\n",
        "            X2.append(input_seq)\n",
        "            y.append(output_seq)\n",
        "      if count == batch_size:\n",
        "        X_train=[np.array(X1),np.array(X2)]\n",
        "        Y_train=np.array(y)\n",
        "        yield (X_train,Y_train)\n",
        "        X1, X2, y = list(), list(), list()\n",
        "        count=0"
      ],
      "execution_count": null,
      "outputs": []
    },
    {
      "cell_type": "code",
      "metadata": {
        "id": "5BiKKIfV7cz4"
      },
      "source": [
        "def get_train_data(train_dataset_path,path1,model_selection):\n",
        "    img_ids_train = extract_img_ids(train_dataset_path)\n",
        "    desp_train = load_cleaned_descriptions(path1+'captions.txt', img_ids_train)\n",
        "    #print(desp_train)\n",
        "    img_features_train = load_features(path1+'features_'+model_selection+'.pkl', img_ids_train)\n",
        "    #if not os.path.exists(path1+'tokenizer.pkl'):\n",
        "        #tokenizer = tokenizing(desp_train)\n",
        "        #dump(tokenizer, open(path1+'tokenizer.pkl', 'wb'))\n",
        "    max_len = maximum_length(desp_train)\n",
        "    return img_features_train, desp_train, max_len"
      ],
      "execution_count": null,
      "outputs": []
    },
    {
      "cell_type": "code",
      "metadata": {
        "id": "xcXRug2O7jhs"
      },
      "source": [
        "def get_val_data(val_dataset_path,path1,model_selection):\n",
        "    img_ids_val = extract_img_ids(val_dataset_path)\n",
        "    desp_val = load_cleaned_descriptions(path1+'captions.txt', img_ids_val)\n",
        "    img_features_val = load_features(path1+'features_'+model_selection+'.pkl', img_ids_val)\n",
        "    return img_features_val, desp_val"
      ],
      "execution_count": null,
      "outputs": []
    },
    {
      "cell_type": "markdown",
      "metadata": {
        "id": "O57r2MGE9iDQ"
      },
      "source": [
        "Extracting only the words that occur more than 10 times from the entire vocabulary set."
      ]
    },
    {
      "cell_type": "code",
      "metadata": {
        "colab": {
          "base_uri": "https://localhost:8080/"
        },
        "id": "mKSmBb-z7nXq",
        "outputId": "823dd31e-94a1-47a5-f7d3-776e6f31c180"
      },
      "source": [
        "train_dataset=\"/content/gdrive/MyDrive/DEEP LEARNING/dataset/Flickr_8k.trainImages.txt\"\n",
        "val_dataset=\"/content/gdrive/MyDrive/DEEP LEARNING/dataset/Flickr_8k.devImages.txt\"\n",
        "\n",
        "img_ids_train = extract_img_ids(train_dataset)\n",
        "desp_train = load_cleaned_descriptions(path_for_extracted_features_captions+'captions.txt', img_ids_train)\n",
        "description_list = convert_to_list(desp_train)\n",
        "\n",
        "threshold = 10\n",
        "desp_count = {}\n",
        "sentence = 0\n",
        "for sent in description_list:\n",
        "    sentence += 1\n",
        "    for w in sent.split(' '):\n",
        "        desp_count[w] = desp_count.get(w, 0) + 1\n",
        "vocab = [w for w in desp_count if desp_count[w] >= threshold]\n",
        "\n",
        "print('Vocabulary = %d' % (len(vocab)))"
      ],
      "execution_count": null,
      "outputs": [
        {
          "output_type": "stream",
          "text": [
            "Vocabulary = 1651\n"
          ],
          "name": "stdout"
        }
      ]
    },
    {
      "cell_type": "code",
      "metadata": {
        "id": "N74DgKIf7q3B"
      },
      "source": [
        "ixtoword = {}\n",
        "wordtoix = {}\n",
        "ix = 1\n",
        "for word in vocab:\n",
        "    wordtoix[word] = ix\n",
        "    ixtoword[ix] = word\n",
        "    ix += 1\n",
        "\n",
        "vocab_size = len(ixtoword) + 1"
      ],
      "execution_count": null,
      "outputs": []
    },
    {
      "cell_type": "code",
      "metadata": {
        "colab": {
          "base_uri": "https://localhost:8080/"
        },
        "id": "x25x2T8Aa-iH",
        "outputId": "68818243-d14e-4456-f604-86810adae4e4"
      },
      "source": [
        "print(vocab_size)"
      ],
      "execution_count": null,
      "outputs": [
        {
          "output_type": "stream",
          "text": [
            "1652\n"
          ],
          "name": "stdout"
        }
      ]
    },
    {
      "cell_type": "markdown",
      "metadata": {
        "id": "eUuDoGTA9ruR"
      },
      "source": [
        "Using the pretrained glove vector to make a matrix out of the limited vocab size that was created in the above step."
      ]
    },
    {
      "cell_type": "code",
      "metadata": {
        "id": "Y0VJAFWa7t2D"
      },
      "source": [
        "embeddings_index = {} \n",
        "f = open(\"/content/gdrive/MyDrive/DEEP LEARNING/dataset/glove.6B.200d.txt\", encoding=\"utf-8\")\n",
        "for line in f:\n",
        "    values = line.split()\n",
        "    word = values[0]\n",
        "    coefs = np.asarray(values[1:], dtype='float32')\n",
        "    embeddings_index[word] = coefs"
      ],
      "execution_count": null,
      "outputs": []
    },
    {
      "cell_type": "code",
      "metadata": {
        "id": "ekMpKmHyesMJ",
        "colab": {
          "base_uri": "https://localhost:8080/"
        },
        "outputId": "e78177de-986d-4897-caaa-00321df71057"
      },
      "source": [
        "embedding_dim = 200\n",
        "embedding_matrix = np.zeros((vocab_size, embedding_dim))\n",
        "for word, i in wordtoix.items():\n",
        "    embedding_vector = embeddings_index.get(word)\n",
        "    if embedding_vector is not None:\n",
        "        embedding_matrix[i] = embedding_vector\n",
        "print(len(embeddings_index))\n",
        "print(len(embedding_matrix))"
      ],
      "execution_count": null,
      "outputs": [
        {
          "output_type": "stream",
          "text": [
            "400000\n",
            "1652\n"
          ],
          "name": "stdout"
        }
      ]
    },
    {
      "cell_type": "markdown",
      "metadata": {
        "id": "oTUviJ6t95zR"
      },
      "source": [
        "This was carried out with inceptionv3 and exception model."
      ]
    },
    {
      "cell_type": "code",
      "metadata": {
        "colab": {
          "base_uri": "https://localhost:8080/"
        },
        "id": "OaJ3K1ik76yZ",
        "outputId": "82fa1096-fc42-4237-ed42-00d66339474b"
      },
      "source": [
        "model_selection = \"inceptionv3\"\n",
        "train_features, train_captions, max_len = get_train_data(train_dataset,path_for_extracted_features_captions,model_selection)\n",
        "val_features,val_captions = get_val_data(val_dataset,path_for_extracted_features_captions,model_selection)\n",
        "print(train_features['10815824_2997e03d76'])"
      ],
      "execution_count": null,
      "outputs": [
        {
          "output_type": "stream",
          "text": [
            "[0.34266418 0.16739696 0.09924389 ... 0.21216701 0.46709603 0.25276417]\n"
          ],
          "name": "stdout"
        }
      ]
    },
    {
      "cell_type": "code",
      "metadata": {
        "colab": {
          "base_uri": "https://localhost:8080/"
        },
        "id": "Aqhbs6c-8DkM",
        "outputId": "eb6011a3-0c0e-441c-fe9b-bde9b38e03f9"
      },
      "source": [
        "print(len(train_features),type(train_features))\n",
        "print(len(val_features),type(val_features))\n",
        "print(max_len)\n",
        "print(train_captions['2513260012_03d33305cf'])"
      ],
      "execution_count": null,
      "outputs": [
        {
          "output_type": "stream",
          "text": [
            "6000 <class 'dict'>\n",
            "1000 <class 'dict'>\n",
            "34\n",
            "['startseq black dog is running after white dog in the snow endseq', 'startseq black dog chasing brown dog through snow endseq', 'startseq two dogs chase each other across the snowy ground endseq', 'startseq two dogs play together in the snow endseq', 'startseq two dogs running through low lying body of water endseq']\n"
          ],
          "name": "stdout"
        }
      ]
    },
    {
      "cell_type": "code",
      "metadata": {
        "id": "GFqhm-vb8Hao"
      },
      "source": [
        "model_config={'dropout':0.3, 'dense':256, 'lstm':256, 'embeddingsize':200}"
      ],
      "execution_count": null,
      "outputs": []
    },
    {
      "cell_type": "code",
      "metadata": {
        "id": "Rzmyz-xr8Lgv"
      },
      "source": [
        "model = Bidirectional_LSTM(vocab_size, max_len, model_config, model_selection)"
      ],
      "execution_count": null,
      "outputs": []
    },
    {
      "cell_type": "code",
      "metadata": {
        "id": "_ar-IOJi8SkH"
      },
      "source": [
        "model.layers[2].set_weights([embedding_matrix])\n",
        "model.layers[2].trainable = False\n",
        "opt = keras.optimizers.Adam(learning_rate=0.001)\n",
        "model.compile(loss='categorical_crossentropy', optimizer=opt, metrics=['accuracy'])"
      ],
      "execution_count": null,
      "outputs": []
    },
    {
      "cell_type": "code",
      "metadata": {
        "colab": {
          "base_uri": "https://localhost:8080/"
        },
        "id": "PiLwlfjY8TVL",
        "outputId": "7452fd0a-981c-451a-9426-73160663ddfd"
      },
      "source": [
        "[a,b],c = next(generate_seq_update(train_features, train_captions, max_len, 1, vocab_size, wordtoix))\n",
        "print(a.shape, b.shape, c.shape)\n",
        "print(c)"
      ],
      "execution_count": null,
      "outputs": [
        {
          "output_type": "stream",
          "text": [
            "(43, 2048) (43, 34) (43, 1652)\n",
            "[[0. 0. 1. ... 0. 0. 0.]\n",
            " [0. 0. 0. ... 0. 0. 0.]\n",
            " [0. 0. 0. ... 0. 0. 0.]\n",
            " ...\n",
            " [0. 0. 0. ... 0. 0. 0.]\n",
            " [0. 0. 0. ... 0. 0. 0.]\n",
            " [0. 0. 0. ... 0. 0. 0.]]\n"
          ],
          "name": "stdout"
        }
      ]
    },
    {
      "cell_type": "code",
      "metadata": {
        "colab": {
          "base_uri": "https://localhost:8080/"
        },
        "id": "aOMNF6Lu8st7",
        "outputId": "7bd4d2aa-2ac7-4d5e-a2e1-28b8e5a9f819"
      },
      "source": [
        "print(model.summary())\n",
        "print(len(train_features))\n",
        "print(len(train_captions))\n",
        "print(vocab_size)\n",
        "print(max_len)"
      ],
      "execution_count": null,
      "outputs": [
        {
          "output_type": "stream",
          "text": [
            "Model: \"model\"\n",
            "__________________________________________________________________________________________________\n",
            "Layer (type)                    Output Shape         Param #     Connected to                     \n",
            "==================================================================================================\n",
            "input_2 (InputLayer)            [(None, 34)]         0                                            \n",
            "__________________________________________________________________________________________________\n",
            "input_1 (InputLayer)            [(None, 2048)]       0                                            \n",
            "__________________________________________________________________________________________________\n",
            "embedding (Embedding)           (None, 34, 200)      330400      input_2[0][0]                    \n",
            "__________________________________________________________________________________________________\n",
            "dense (Dense)                   (None, 256)          524544      input_1[0][0]                    \n",
            "__________________________________________________________________________________________________\n",
            "lstm (LSTM)                     (None, 34, 256)      467968      embedding[0][0]                  \n",
            "__________________________________________________________________________________________________\n",
            "repeat_vector (RepeatVector)    (None, 34, 256)      0           dense[0][0]                      \n",
            "__________________________________________________________________________________________________\n",
            "time_distributed (TimeDistribut (None, 34, 256)      65792       lstm[0][0]                       \n",
            "__________________________________________________________________________________________________\n",
            "add (Add)                       (None, 34, 256)      0           repeat_vector[0][0]              \n",
            "                                                                 time_distributed[0][0]           \n",
            "__________________________________________________________________________________________________\n",
            "bidirectional (Bidirectional)   (None, 512)          1050624     add[0][0]                        \n",
            "__________________________________________________________________________________________________\n",
            "dense_2 (Dense)                 (None, 1652)         847476      bidirectional[0][0]              \n",
            "==================================================================================================\n",
            "Total params: 3,286,804\n",
            "Trainable params: 2,956,404\n",
            "Non-trainable params: 330,400\n",
            "__________________________________________________________________________________________________\n",
            "None\n",
            "6000\n",
            "6000\n",
            "1652\n",
            "34\n"
          ],
          "name": "stdout"
        }
      ]
    },
    {
      "cell_type": "code",
      "metadata": {
        "colab": {
          "base_uri": "https://localhost:8080/"
        },
        "id": "HxaUZ8rD84XG",
        "outputId": "edfb5a4b-f08f-43a8-891b-77c21ba30519"
      },
      "source": [
        "batch_size = 3\n",
        "train_steps = len(train_captions)//batch_size\n",
        "val_steps  = len(val_captions)//batch_size\n",
        "epochs=20\n",
        "print(train_steps,val_steps)\n",
        "#model_selection='vgg16'\n",
        "model_save_path = \"/content/gdrive/MyDrive/DEEP LEARNING/final/model/Inception/model_\"+model_selection+'rnn_20epochs_10feq_vocab_3batch_rnn_altrnn_001lr.hdf5'\n",
        "checkpoint = ModelCheckpoint(model_save_path, monitor='val_loss', verbose=1, save_best_only=True, mode='min')\n",
        "checkpointer = [checkpoint]\n",
        "history_save_path = \"/content/gdrive/MyDrive/DEEP LEARNING/final/model/Inception/model_\"+model_selection+\"rnn_20epochs_10feq_vocab_3batch_rnn_altrnn_001lr\""
      ],
      "execution_count": null,
      "outputs": [
        {
          "output_type": "stream",
          "text": [
            "2000 333\n"
          ],
          "name": "stdout"
        }
      ]
    },
    {
      "cell_type": "code",
      "metadata": {
        "colab": {
          "base_uri": "https://localhost:8080/"
        },
        "id": "nWP6tybh85ET",
        "outputId": "d626f123-61ac-4d60-f8ff-e4e53d16de47"
      },
      "source": [
        "train_data_generator = generate_seq_update(train_features, train_captions, max_len, batch_size, vocab_size, wordtoix)\n",
        "val_data_generator = generate_seq_update(val_features, val_captions, max_len, batch_size, vocab_size, wordtoix)\n",
        "history = model.fit(train_data_generator, epochs=epochs, steps_per_epoch = train_steps, validation_data=val_data_generator, validation_steps= val_steps, verbose=1)\n",
        "model.save(model_save_path)\n",
        "with open(history_save_path, 'wb') as file_pi:\n",
        "  dump(history.history, file_pi)\n",
        "print(\"Done with epoch \")\n",
        "print('\\n\\n\\n\\n')"
      ],
      "execution_count": null,
      "outputs": [
        {
          "output_type": "stream",
          "text": [
            "Epoch 1/20\n",
            "2000/2000 [==============================] - 323s 157ms/step - loss: 4.5722 - accuracy: 0.2000 - val_loss: 3.5373 - val_accuracy: 0.2870\n",
            "Epoch 2/20\n",
            "2000/2000 [==============================] - 312s 156ms/step - loss: 3.3831 - accuracy: 0.3030 - val_loss: 3.3169 - val_accuracy: 0.3078\n",
            "Epoch 3/20\n",
            "2000/2000 [==============================] - 312s 156ms/step - loss: 3.0722 - accuracy: 0.3310 - val_loss: 3.2572 - val_accuracy: 0.3149\n",
            "Epoch 4/20\n",
            "2000/2000 [==============================] - 311s 156ms/step - loss: 2.8633 - accuracy: 0.3528 - val_loss: 3.2511 - val_accuracy: 0.3170\n",
            "Epoch 5/20\n",
            "2000/2000 [==============================] - 310s 155ms/step - loss: 2.6900 - accuracy: 0.3727 - val_loss: 3.2681 - val_accuracy: 0.3178\n",
            "Epoch 6/20\n",
            "2000/2000 [==============================] - 310s 155ms/step - loss: 2.5412 - accuracy: 0.3937 - val_loss: 3.3057 - val_accuracy: 0.3175\n",
            "Epoch 7/20\n",
            "2000/2000 [==============================] - 309s 155ms/step - loss: 2.4250 - accuracy: 0.4095 - val_loss: 3.3456 - val_accuracy: 0.3156\n",
            "Epoch 8/20\n",
            "2000/2000 [==============================] - 310s 155ms/step - loss: 2.3144 - accuracy: 0.4267 - val_loss: 3.3956 - val_accuracy: 0.3127\n",
            "Epoch 9/20\n",
            "2000/2000 [==============================] - 309s 154ms/step - loss: 2.2223 - accuracy: 0.4428 - val_loss: 3.4377 - val_accuracy: 0.3135\n",
            "Epoch 10/20\n",
            "2000/2000 [==============================] - 310s 155ms/step - loss: 2.1388 - accuracy: 0.4574 - val_loss: 3.5082 - val_accuracy: 0.3118\n",
            "Epoch 11/20\n",
            "2000/2000 [==============================] - 311s 155ms/step - loss: 2.0689 - accuracy: 0.4714 - val_loss: 3.5489 - val_accuracy: 0.3084\n",
            "Epoch 12/20\n",
            "2000/2000 [==============================] - 309s 155ms/step - loss: 2.0065 - accuracy: 0.4822 - val_loss: 3.5845 - val_accuracy: 0.3071\n",
            "Epoch 13/20\n",
            "2000/2000 [==============================] - 309s 155ms/step - loss: 1.9469 - accuracy: 0.4933 - val_loss: 3.6331 - val_accuracy: 0.3068\n",
            "Epoch 14/20\n",
            "2000/2000 [==============================] - 310s 155ms/step - loss: 1.8825 - accuracy: 0.5056 - val_loss: 3.6924 - val_accuracy: 0.3026\n",
            "Epoch 15/20\n",
            "2000/2000 [==============================] - 310s 155ms/step - loss: 1.8462 - accuracy: 0.5121 - val_loss: 3.7255 - val_accuracy: 0.3005\n",
            "Epoch 16/20\n",
            "2000/2000 [==============================] - 314s 157ms/step - loss: 1.8000 - accuracy: 0.5215 - val_loss: 3.7834 - val_accuracy: 0.2986\n",
            "Epoch 17/20\n",
            "2000/2000 [==============================] - 311s 155ms/step - loss: 1.7614 - accuracy: 0.5295 - val_loss: 3.8408 - val_accuracy: 0.2960\n",
            "Epoch 18/20\n",
            "2000/2000 [==============================] - 310s 155ms/step - loss: 1.7207 - accuracy: 0.5383 - val_loss: 3.8860 - val_accuracy: 0.2967\n",
            "Epoch 19/20\n",
            "2000/2000 [==============================] - 314s 157ms/step - loss: 1.6836 - accuracy: 0.5440 - val_loss: 3.9341 - val_accuracy: 0.2963\n",
            "Epoch 20/20\n",
            "2000/2000 [==============================] - 316s 158ms/step - loss: 1.6414 - accuracy: 0.5534 - val_loss: 3.9814 - val_accuracy: 0.2935\n",
            "Done with epoch \n",
            "\n",
            "\n",
            "\n",
            "\n",
            "\n"
          ],
          "name": "stdout"
        }
      ]
    },
    {
      "cell_type": "code",
      "metadata": {
        "id": "pT3i1OVy-sy7"
      },
      "source": [
        "def generate_description(model,image,max_len):\n",
        "    in_text = 'startseq'\n",
        "    for i in range(max_len):\n",
        "        sequence = [wordtoix[w] for w in in_text.split() if w in wordtoix]\n",
        "        sequence = pad_sequences([sequence], maxlen=max_len)\n",
        "        yhat = model.predict([image,sequence], verbose=0)\n",
        "        yhat = np.argmax(yhat)\n",
        "        word = ixtoword[yhat]\n",
        "        in_text += ' ' + word\n",
        "        if word == 'endseq':\n",
        "            break\n",
        "\n",
        "    final = in_text.split()\n",
        "    final = final[1:-1]\n",
        "    final = ' '.join(final)\n",
        "    return final"
      ],
      "execution_count": null,
      "outputs": []
    },
    {
      "cell_type": "code",
      "metadata": {
        "id": "VUsOBwXGilCy"
      },
      "source": [
        "def test_feature_extraction(path, model_selection):\n",
        "    if model_selection == 'inceptionv3':\n",
        "        from keras.applications.inception_v3 import preprocess_input\n",
        "        size = (299, 299)\n",
        "    elif model_selection == 'vgg16':\n",
        "        from keras.applications.vgg16 import preprocess_input\n",
        "        size = (224, 224)\n",
        "    elif model_selection == 'Xception':\n",
        "        from keras.applications.xception import preprocess_input\n",
        "        size = (299,299)\n",
        "    model = cnn(model_selection)\n",
        "    features = dict()\n",
        "    for name in tqdm(os.listdir(path)):\n",
        "        filename = path + name\n",
        "        img = load_img(filename, target_size=size)\n",
        "        img = image.img_to_array(img)\n",
        "        img = np.expand_dims(img,axis=0)\n",
        "        img = preprocess_input(img)\n",
        "        feature = model.predict(img)\n",
        "        img_id = name.split('.')[0]\n",
        "        feature = np.reshape(feature,feature.shape[1])\n",
        "    return feature"
      ],
      "execution_count": null,
      "outputs": []
    },
    {
      "cell_type": "code",
      "metadata": {
        "id": "xojPq8pdZ9sA"
      },
      "source": [
        "def beam_search_predictions(model, image, max_len, beam_index = 3):\n",
        "    start = [wordtoix[\"startseq\"]]\n",
        "    start_word = [[start, 0.0]]\n",
        "    while len(start_word[0][0]) < max_len:\n",
        "        temp = []\n",
        "        for s in start_word:\n",
        "            par_caps = sequence.pad_sequences([s[0]], maxlen=max_len)\n",
        "            preds = model.predict([image,par_caps], verbose=0)\n",
        "            word_preds = np.argsort(preds[0])[-beam_index:]\n",
        "            for w in word_preds:\n",
        "                next_cap, prob = s[0][:], s[1]\n",
        "                next_cap.append(w)\n",
        "                prob += preds[0][w]\n",
        "                temp.append([next_cap, prob])\n",
        "                    \n",
        "        start_word = temp\n",
        "        # Sorting according to the probabilities\n",
        "        start_word = sorted(start_word, reverse=False, key=lambda l: l[1])\n",
        "        # Getting the top words\n",
        "        start_word = start_word[-beam_index:]\n",
        "    \n",
        "    start_word = start_word[-1][0]\n",
        "    intermediate_caption = [ixtoword[i] for i in start_word]\n",
        "    final_caption = []\n",
        "    \n",
        "    for i in intermediate_caption:\n",
        "        if i != 'endseq':\n",
        "            final_caption.append(i)\n",
        "        else:\n",
        "            break\n",
        "\n",
        "    final_caption = ' '.join(final_caption[1:])\n",
        "    return final_caption"
      ],
      "execution_count": null,
      "outputs": []
    },
    {
      "cell_type": "code",
      "metadata": {
        "id": "IM4P0Ssn9gxU"
      },
      "source": [
        "def generate_caption_beam_search(model, tokenizer, image, max_length, beam_index=3):\n",
        "\tin_text = [[tokenizer.texts_to_sequences(['startseq'])[0], 0.0]]\n",
        "\twhile len(in_text[0][0]) < max_length:\n",
        "\t\ttempList = []\n",
        "\t\tfor seq in in_text:\n",
        "\t\t\tpadded_seq = pad_sequences([seq[0]], maxlen=max_length)\n",
        "\t\t\tpreds = model.predict([image,padded_seq], verbose=0)\n",
        "\t\t\t# Take top (i.e. which have highest probailities) `beam_index` predictions\n",
        "\t\t\ttop_preds = np.argsort(preds[0])[-beam_index:] \n",
        "\t\t\tfor word in top_preds:\n",
        "\t\t\t\tnext_seq, prob = seq[0][:], seq[1]\n",
        "\t\t\t\tnext_seq.append(word)\n",
        "\t\t\t\t# Update probability\n",
        "\t\t\t\tprob += preds[0][word]\n",
        "\t\t\t\t# Append as input for generating the next word\n",
        "\t\t\t\ttempList.append([next_seq, prob])\n",
        "\t\tin_text = tempList\n",
        "\t\t# Sorting according to the probabilities\n",
        "\t\tin_text = sorted(in_text, reverse=False, key=lambda l: l[1])\n",
        "\t\t# Take the top words\n",
        "\t\tin_text = in_text[-beam_index:]\n",
        "\tin_text = in_text[-1][0]\n",
        "\tfinal_caption_raw = [generate_word_from_int(i,tokenizer) for i in in_text]\n",
        "\tfinal_caption = []\n",
        "\tfor word in final_caption_raw:\n",
        "\t\tif word=='endseq':\n",
        "\t\t\tbreak\n",
        "\t\telse:\n",
        "\t\t\tfinal_caption.append(word)\n",
        "\tfinal_caption.append('endseq')\n",
        "\treturn ' '.join(final_caption)"
      ],
      "execution_count": null,
      "outputs": []
    },
    {
      "cell_type": "code",
      "metadata": {
        "id": "_nWPxR3bi5bn"
      },
      "source": [
        "test_data_path = \"/content/gdrive/MyDrive/DEEP LEARNING/dataset/test_dataset/\"\n",
        "#model1 = load_model(\"/content/gdrive/MyDrive/DEEP LEARNING/final/model/Inception/model_inceptionv3rnn_30epochs_10feq_vocab_3batch_rnn_altrnn.hdf5\")"
      ],
      "execution_count": null,
      "outputs": []
    },
    {
      "cell_type": "code",
      "metadata": {
        "colab": {
          "base_uri": "https://localhost:8080/"
        },
        "id": "wYRWxEzEi6JE",
        "outputId": "5d2c1d0b-93bb-4174-8f2f-195eeb5849ca"
      },
      "source": [
        "max_len = 34\n",
        "\n",
        "#feature = test_feature_extraction(test_data_path, \"inceptionv3\")\n",
        "#feature = feature.reshape((1,2048))\n",
        "#img = Image.open(\"/content/gdrive/MyDrive/DEEP LEARNING/dataset/test_dataset/test1.jpg\")\n",
        "#print(generate_caption_beam_search(model, tokenizer, feature, max_len, beam_index=3))\n",
        "#description = generate_description(model, tokenizer, feature, max_len)\n",
        "#print(description)\n",
        "#print(\"\\n\\n\")\n",
        "#print(\"without beam search:\",generate_description(model, feature, max_len))\n",
        "#print(\"Beam Search, K = 3:\",beam_search_predictions(model, feature, max_len, beam_index = 3))\n",
        "#print(\"Beam Search, K = 5:\",beam_search_predictions(model, feature, max_len, beam_index = 5))\n",
        "#print(\"Beam Search, K = 7:\",beam_search_predictions(model, feature, max_len, beam_index = 7))\n",
        "#print(\"Beam Search, K = 10:\",beam_search_predictions(model, feature, max_len, beam_index = 10))\n",
        "#plt.imshow(img)\n",
        "model_evaluation(model,val_features,val_captions, max_len, 3)\n",
        "model_evaluation_greedy_search(model, val_features, val_captions, max_len)\n"
      ],
      "execution_count": null,
      "outputs": [
        {
          "output_type": "stream",
          "text": [
            "100%|██████████| 1000/1000 [1:21:47<00:00,  4.91s/it]\n"
          ],
          "name": "stderr"
        },
        {
          "output_type": "stream",
          "text": [
            "BLEU Scores :\n",
            "A perfect match results in a score of 1.0, whereas a perfect mismatch results in a score of 0.0.\n",
            "BLEU-1: 0.383374\n",
            "BLEU-2: 0.221275\n",
            "BLEU-3: 0.156473\n"
          ],
          "name": "stdout"
        },
        {
          "output_type": "stream",
          "text": [
            "\r  0%|          | 0/1000 [00:00<?, ?it/s]"
          ],
          "name": "stderr"
        },
        {
          "output_type": "stream",
          "text": [
            "BLEU-4: 0.071183\n"
          ],
          "name": "stdout"
        },
        {
          "output_type": "stream",
          "text": [
            "100%|██████████| 1000/1000 [07:56<00:00,  2.10it/s]\n"
          ],
          "name": "stderr"
        },
        {
          "output_type": "stream",
          "text": [
            "BLEU Scores :\n",
            "A perfect match results in a score of 1.0, whereas a perfect mismatch results in a score of 0.0.\n",
            "BLEU-1: 0.376631\n",
            "BLEU-2: 0.207516\n",
            "BLEU-3: 0.143599\n",
            "BLEU-4: 0.063321\n"
          ],
          "name": "stdout"
        }
      ]
    },
    {
      "cell_type": "markdown",
      "metadata": {
        "id": "Rc8DakeW-EsH"
      },
      "source": [
        "Though the BLEU scores were less, the generated captions defines the image well."
      ]
    },
    {
      "cell_type": "code",
      "metadata": {
        "colab": {
          "base_uri": "https://localhost:8080/",
          "height": 336
        },
        "id": "4DMbt274kqK1",
        "outputId": "b8303531-9aee-4159-f4e9-5579637bdfd2"
      },
      "source": [
        "max_len = 34\n",
        "\n",
        "feature = test_feature_extraction(test_data_path, \"inceptionv3\")\n",
        "feature = feature.reshape((1,2048))\n",
        "img = Image.open(\"/content/gdrive/MyDrive/DEEP LEARNING/dataset/test_dataset/test1.jpg\")\n",
        "print(\"without beam search:\",generate_description(model, feature, max_len))\n",
        "print(\"Beam Search, K = 3:\",beam_search_predictions(model, feature, max_len, beam_index = 3))\n",
        "plt.imshow(img)"
      ],
      "execution_count": null,
      "outputs": [
        {
          "output_type": "stream",
          "text": [
            "100%|██████████| 1/1 [00:01<00:00,  1.03s/it]\n"
          ],
          "name": "stderr"
        },
        {
          "output_type": "stream",
          "text": [
            "without beam search: two dogs are playing tug of war with bottle\n",
            "Beam Search, K = 3: two dogs are playing tug of war with toy\n"
          ],
          "name": "stdout"
        },
        {
          "output_type": "execute_result",
          "data": {
            "text/plain": [
              "<matplotlib.image.AxesImage at 0x7f19a7b4de90>"
            ]
          },
          "metadata": {
            "tags": []
          },
          "execution_count": 43
        },
        {
          "output_type": "display_data",
          "data": {
            "image/png": "[encoded data removed]",
            "text/plain": [
              "<Figure size 432x288 with 1 Axes>"
            ]
          },
          "metadata": {
            "tags": [],
            "needs_background": "light"
          }
        }
      ]
    },
    {
      "cell_type": "code",
      "metadata": {
        "colab": {
          "base_uri": "https://localhost:8080/",
          "height": 573
        },
        "id": "Eh0ivHonkzFJ",
        "outputId": "bbd4532e-aac9-4637-9c69-d36a3e2214e8"
      },
      "source": [
        "acc = history.history['accuracy']\n",
        "val_acc = history.history['val_accuracy']\n",
        "loss = history.history['loss']\n",
        "val_loss = history.history['val_loss']\n",
        "epochs = range(1, len(acc) + 1)\n",
        "\n",
        "plt.plot(epochs, acc, 'b', label='Training acc')\n",
        "plt.plot(epochs, val_acc, 'g', label='Validation acc')\n",
        "plt.xlabel('Epochs')\n",
        "plt.ylabel('Accuracy')\n",
        "\n",
        "plt.title('Training and validation accuracy')\n",
        "plt.legend()\n",
        "fig = plt.figure()\n",
        "fig.savefig('acc.png')\n",
        "\n",
        "\n",
        "plt.plot(epochs, loss, 'b', label='Training loss')\n",
        "plt.plot(epochs, val_loss, 'g', label='Validation loss')\n",
        "plt.xlabel('Epochs')\n",
        "plt.ylabel('Loss')\n",
        "plt.title('Training and validation loss')\n",
        "\n",
        "plt.legend()\n",
        "plt.show()"
      ],
      "execution_count": null,
      "outputs": [
        {
          "output_type": "display_data",
          "data": {
            "image/png": "[encoded data removed]",
            "text/plain": [
              "<Figure size 432x288 with 1 Axes>"
            ]
          },
          "metadata": {
            "tags": [],
            "needs_background": "light"
          }
        },
        {
          "output_type": "display_data",
          "data": {
            "image/png": "[encoded data removed]",
            "text/plain": [
              "<Figure size 432x288 with 1 Axes>"
            ]
          },
          "metadata": {
            "tags": [],
            "needs_background": "light"
          }
        }
      ]
    }
  ]
}